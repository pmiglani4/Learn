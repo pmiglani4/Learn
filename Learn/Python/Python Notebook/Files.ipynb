{
 "cells": [
  {
   "cell_type": "markdown",
   "metadata": {},
   "source": [
    "# Files\n",
    "\n",
    "Python uses file objects to interact with external files on your computer. These file objects can be any sort of file you have on your computer, whether it be an audio file, a text file, emails, Excel documents, etc. Note: You will probably need to install certain libraries or modules to interact with those various file types, but they are easily available. (We will cover downloading modules later on in the course).\n",
    "\n",
    "Python has a built-in open function that allows us to open and play with basic file types. First we will need a file though. We're going to use some iPython magic to create a text file!\n",
    "\n",
    "## iPython Writing a File"
   ]
  },
  {
   "cell_type": "code",
   "execution_count": 1,
   "metadata": {},
   "outputs": [
    {
     "name": "stdout",
     "output_type": "stream",
     "text": [
      "Overwriting test.txt\n"
     ]
    }
   ],
   "source": [
    "%%writefile test.txt\n",
    "Hello, this is a quick test file"
   ]
  },
  {
   "cell_type": "markdown",
   "metadata": {},
   "source": [
    "## Python Opening a file\n",
    "\n",
    "We can open a file with the open() function. The open function also takes in arguments (also called parameters). Lets see how this is used:"
   ]
  },
  {
   "cell_type": "code",
   "execution_count": 2,
   "metadata": {
    "collapsed": true
   },
   "outputs": [],
   "source": [
    "# Open the text.txt we made earlier\n",
    "my_file = open('test.txt')"
   ]
  },
  {
   "cell_type": "code",
   "execution_count": 3,
   "metadata": {},
   "outputs": [
    {
     "data": {
      "text/plain": [
       "'Hello, this is a quick test file'"
      ]
     },
     "execution_count": 3,
     "metadata": {},
     "output_type": "execute_result"
    }
   ],
   "source": [
    "# We can now read the file\n",
    "my_file.read()"
   ]
  },
  {
   "cell_type": "code",
   "execution_count": 4,
   "metadata": {},
   "outputs": [
    {
     "data": {
      "text/plain": [
       "''"
      ]
     },
     "execution_count": 4,
     "metadata": {},
     "output_type": "execute_result"
    }
   ],
   "source": [
    "# But what happens if we try to read it again?\n",
    "my_file.read()"
   ]
  },
  {
   "cell_type": "markdown",
   "metadata": {},
   "source": [
    "This happens because you can imagine the reading \"cursor\" is at the end of the file after having read it. So there is nothing left to read. We can reset the \"cursor\" like this:"
   ]
  },
  {
   "cell_type": "code",
   "execution_count": 10,
   "metadata": {},
   "outputs": [],
   "source": [
    "# Seek to the start of file (index 0)\n",
    "my_file.seek(0)"
   ]
  },
  {
   "cell_type": "code",
   "execution_count": 6,
   "metadata": {},
   "outputs": [
    {
     "data": {
      "text/plain": [
       "'Hello, this is a quick test file'"
      ]
     },
     "execution_count": 6,
     "metadata": {},
     "output_type": "execute_result"
    }
   ],
   "source": [
    "# Now read again\n",
    "my_file.read()"
   ]
  },
  {
   "cell_type": "markdown",
   "metadata": {},
   "source": [
    "In order to not have to reset every time, we can also use the readlines method. Use caution with large files, since everything will be held in memory. We will learn how to iterate over large files later in the course."
   ]
  },
  {
   "cell_type": "code",
   "execution_count": 11,
   "metadata": {},
   "outputs": [],
   "source": [
    "# Readlines returns a list of the lines in the file.\n",
    "l=my_file.readlines()"
   ]
  },
  {
   "cell_type": "markdown",
   "metadata": {},
   "source": [
    "## Writing to a File\n",
    "\n",
    "By default, using the open() function will only allow us to read the file, we need to pass the argument 'w' to write over the file. For example:"
   ]
  },
  {
   "cell_type": "code",
   "execution_count": 12,
   "metadata": {},
   "outputs": [
    {
     "data": {
      "text/plain": [
       "list"
      ]
     },
     "execution_count": 12,
     "metadata": {},
     "output_type": "execute_result"
    }
   ],
   "source": [
    "type(l)"
   ]
  },
  {
   "cell_type": "code",
   "execution_count": 20,
   "metadata": {
    "collapsed": true
   },
   "outputs": [],
   "source": [
    "# Add a second argument to the function, 'w' which stands for write\n",
    "my_file = open('test.txt','w+')"
   ]
  },
  {
   "cell_type": "code",
   "execution_count": 21,
   "metadata": {},
   "outputs": [
    {
     "data": {
      "text/plain": [
       "['Hello, this is a quick test file']"
      ]
     },
     "execution_count": 21,
     "metadata": {},
     "output_type": "execute_result"
    }
   ],
   "source": [
    "l"
   ]
  },
  {
   "cell_type": "code",
   "execution_count": 22,
   "metadata": {},
   "outputs": [],
   "source": [
    "# Write to the file\n",
    "my_file.write('This is a new line')"
   ]
  },
  {
   "cell_type": "code",
   "execution_count": 23,
   "metadata": {},
   "outputs": [
    {
     "data": {
      "text/plain": [
       "'   \"\"\"Get a code string from history, file, url, or a string or macro.\\n\\n        This is mainly used by magic functions.\\n\\n        Parameters\\n        ----------\\n\\n        target : str\\n\\n          A string specifying code to retrieve. This will be tried respectively\\n          as: ranges of input history (see %history for syntax), url,\\n          corresponding .py file, filename, or an expression evaluating to a\\n          string or Macro in the user namespace.\\n\\n        raw : bool\\n          If true (default), retrieve raw history. Has no effect on the other\\n          retrieval mechanisms.\\n\\n        py_only : bool (default False)\\n          Only try to fetch python code, do not try alternative methods to decode file\\n          if unicode fails.\\n\\n        Returns\\n        -------\\n        A string of code.\\n\\n        ValueError is raised if nothing is found, and TypeError if it evaluates\\n        to an object of another type. In each case, .args[0] is a printable\\n        message.\\n        \"\"\"\\n        code = self.extract_input_lines(target, raw=raw)  # Grab history\\n        if code:\\n            return code\\n        try:\\n            if target.startswith((\\'http://\\', \\'https://\\')):\\n                return openpy.read_py_url(target, skip_encoding_cookie=skip_encoding_cookie)\\n        except UnicodeDecodeError:\\n            if not py_only :\\n                # Deferred import\\n                try:\\n                    from urllib.request import urlopen  # Py3\\n                except ImportError:\\n                    from urllib import urlopen\\n                response = urlopen(target)\\n                return response.read().decode(\\'latin1\\')\\n            raise ValueError((\"\\'%s\\' seem to be unreadable.\") % target)\\n\\n        potential_target = [target]\\n        try :\\n            potential_target.insert(0,get_py_filename(target))\\n        except IOError:\\n            pass\\n\\n        for tgt in potential_target :\\n            if os.path.isfile(tgt):                        # Read file\\n                try :\\n                    return openpy.read_py_file(tgt, skip_encoding_cookie=skip_encoding_cookie)\\n                except UnicodeDecodeError :\\n                    if not py_only :\\n                        with io_open(tgt,\\'r\\', encoding=\\'latin1\\') as f :\\n                            return f.read()\\n                    raise ValueError((\"\\'%s\\' seem to be unreadable.\") % target)\\n            elif os.path.isdir(os.path.expanduser(tgt)):\\n                raise ValueError(\"\\'%s\\' is a directory, not a regular file.\" % target)\\n\\n        if search_ns:\\n            # Inspect namespace to load object source\\n            object_info = self.object_inspect(target, detail_level=1)\\n            if object_info[\\'found\\'] and object_info[\\'source\\']:\\n                return object_info[\\'source\\']\\n\\n        try:                                              # User namespace\\n            codeobj = eval(target, self.user_ns)\\n        except Exception:\\n            raise ValueError((\"\\'%s\\' was not found in history, as a file, url, \"\\n                                \"nor in the user namespace.\") % target)\\n\\n        if isinstance(codeobj, string_types):\\n            return codeobj\\n        elif isinstance(codeobj, Macro):\\n            return codeobj.value\\n\\n        raise TypeError(\"%s is neither a string nor a macro.\" % target,\\n                        codeobj)\\n\\n    #-------------------------------------------------------------------------\\n    # Things related to IPython exiting\\n    #-------------------------------------------------------------------------\\n    def atexit_operations(self):\\n        \"\"\"This will be executed at the time of exit.\\n\\n        Cleanup operations and saving of persistent data that is done\\n        unconditionally by IPython should be performed here.\\n\\n        For things that may depend on startup flags or platform specifics (such\\n        as having readline or not), register a separate atexit function in the\\n        code that has the appropriate information, rather than trying to\\n        clutter\\n        \"\"\"\\n        # Close the history session (this stores the end time and line count)\\n       '"
      ]
     },
     "execution_count": 23,
     "metadata": {},
     "output_type": "execute_result"
    }
   ],
   "source": [
    "# Read the file\n",
    "my_file.read()"
   ]
  },
  {
   "cell_type": "markdown",
   "metadata": {},
   "source": [
    "## Iterating through a File\n",
    "\n",
    "Lets get a quick preview of a for loop by iterating over a text file. First let's make a new text file with some iPython Magic:"
   ]
  },
  {
   "cell_type": "code",
   "execution_count": 30,
   "metadata": {},
   "outputs": [
    {
     "name": "stdout",
     "output_type": "stream",
     "text": [
      "Overwriting test.txt\n"
     ]
    }
   ],
   "source": [
    "%%writefile test.txt\n",
    "First Line\n",
    "Second Line"
   ]
  },
  {
   "cell_type": "markdown",
   "metadata": {},
   "source": [
    "Now we can use a little bit of flow to tell the program to for through every line of the file and do something:"
   ]
  },
  {
   "cell_type": "code",
   "execution_count": 31,
   "metadata": {},
   "outputs": [
    {
     "name": "stdout",
     "output_type": "stream",
     "text": [
      "First Line\n",
      "\n",
      "Second Line\n"
     ]
    }
   ],
   "source": [
    "for line in open('test.txt'):\n",
    "    print line"
   ]
  },
  {
   "cell_type": "markdown",
   "metadata": {},
   "source": [
    "Don't worry about fully understanding this yet, for loops are coming up soon. But we'll break down what we did above. We said that for every line in this text file, go ahead and print that line. Its important to note a few things here:\n",
    "\n",
    "    1.) We could have called the 'line' object anything (see example below).\n",
    "    2.) By not calling .read() on the file, the whole text file was not stored in memory.\n",
    "    3.) Notice the indent on the second line for print. This whitespace is required in Python.\n",
    "\n",
    "We'll learn a lot more about this later, but up next: Sets and Booleans!"
   ]
  },
  {
   "cell_type": "code",
   "execution_count": 32,
   "metadata": {},
   "outputs": [
    {
     "name": "stdout",
     "output_type": "stream",
     "text": [
      "First Line\n",
      "\n",
      "Second Line\n"
     ]
    }
   ],
   "source": [
    "# Pertaining to the first point above\n",
    "for asdf in open('test.txt'):\n",
    "    print asdf"
   ]
  },
  {
   "cell_type": "code",
   "execution_count": 27,
   "metadata": {
    "collapsed": true
   },
   "outputs": [],
   "source": [
    "my_file = open('test.txt','w+')"
   ]
  },
  {
   "cell_type": "code",
   "execution_count": 28,
   "metadata": {
    "collapsed": true
   },
   "outputs": [],
   "source": [
    "my_file.write('hiiiiiiiiiiiiiiiiiiiiiiii')"
   ]
  },
  {
   "cell_type": "code",
   "execution_count": null,
   "metadata": {
    "collapsed": true
   },
   "outputs": [],
   "source": []
  }
 ],
 "metadata": {
  "kernelspec": {
   "display_name": "Python 2",
   "language": "python",
   "name": "python2"
  },
  "language_info": {
   "codemirror_mode": {
    "name": "ipython",
    "version": 2
   },
   "file_extension": ".py",
   "mimetype": "text/x-python",
   "name": "python",
   "nbconvert_exporter": "python",
   "pygments_lexer": "ipython2",
   "version": "2.7.13"
  }
 },
 "nbformat": 4,
 "nbformat_minor": 1
}
